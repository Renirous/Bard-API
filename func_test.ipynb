{
 "cells": [
  {
   "cell_type": "code",
   "execution_count": 1,
   "metadata": {},
   "outputs": [],
   "source": [
    "from bardapi import Bard"
   ]
  },
  {
   "cell_type": "code",
   "execution_count": 2,
   "metadata": {},
   "outputs": [],
   "source": [
    "token = 'xxxxxxxxxx'"
   ]
  },
  {
   "cell_type": "code",
   "execution_count": 3,
   "metadata": {},
   "outputs": [
    {
     "data": {
      "text/plain": [
       "\"뉴진스는 2022년 7월 데뷔한 5인조 걸그룹입니다. 멤버는 민지, 하니, 다니엘, 해린, 혜인입니다. 뉴진스는 데뷔곡 'Attention'으로 큰 인기를 얻었으며, 'OMG', 'Hype Boy', 'Hurt' 등의 곡으로 꾸준히 사랑받고 있습니다. 뉴진스는 미니멀한 사운드와 중독성 있는 멜로디로 많은 팬을 보유하고 있습니다. 또한, 뉴진스는 개성 넘치는 패션과 스타일로 트렌드세터로 자리매김했습니다. 뉴진스는 2023년에도 활발한 활동을 이어갈 것으로 기대됩니다.\\n\\n뉴진스의 음악은 10대, 20대뿐만 아니라 30~40대까지도 거부감 없이 즐길 수 있는 음악이라는 평가를 받고 있습니다. 또한, 뉴진스의 음악은 미니멀한 사운드와 중독성 있는 멜로디로 많은 팬을 보유하고 있습니다. 뉴진스는 개성 넘치는 패션과 스타일로 트렌드세터로 자리매김했습니다. 뉴진스는 2023년에도 활발한 활동을 이어갈 것으로 기대됩니다.\""
      ]
     },
     "execution_count": 3,
     "metadata": {},
     "output_type": "execute_result"
    }
   ],
   "source": [
    "bard = Bard(token=token)\n",
    "bard.get_answer(\"나와 내 동년배들이 좋아하는 뉴진스에 대해서 알려줘\")['content']"
   ]
  },
  {
   "cell_type": "code",
   "execution_count": 4,
   "metadata": {},
   "outputs": [
    {
     "name": "stdout",
     "output_type": "stream",
     "text": [
      "2023 年 6 月 27 日今天首尔的天气炎热潮湿。目前气温为 86°F (30°C)，预计今天将达到 84°F (29°C)。湿度是75%，感觉会更热。今天下雨的可能性为 0%。\n",
      "\n",
      "首尔的天气目前正处于夏季。季风季节从六月下旬到七月中旬，因此未来几周可能会有一些降雨。然而，夏季首尔的整体天气通常炎热潮湿。\n"
     ]
    }
   ],
   "source": [
    "from bardapi import Bard\n",
    "\n",
    "bard = Bard(token=token, language='chinese (simplified)')\n",
    "res = bard.get_answer(\"今天首尔的天气怎么样？\")\n",
    "print(res['content'])"
   ]
  },
  {
   "cell_type": "code",
   "execution_count": null,
   "metadata": {},
   "outputs": [],
   "source": [
    "from bardapi import Bard\n",
    "bard = Bard(token=token)\n",
    "res = bard.get_answer(\"Find me an image of the main entrance of Stanford University.\")\n",
    "res['links'] # Get image links (list)\n",
    "res['images'] # Get images (set)"
   ]
  },
  {
   "cell_type": "code",
   "execution_count": null,
   "metadata": {},
   "outputs": [],
   "source": [
    "from bardapi import Bard\n",
    "bard = Bard(token=token)\n",
    "res = bard.get_answer(\"Find me an image of the main entrance of Stanford University.\")\n",
    "res['links'] # Get image links (list)\n",
    "res['images'] # Get images (set)"
   ]
  },
  {
   "cell_type": "code",
   "execution_count": null,
   "metadata": {},
   "outputs": [],
   "source": [
    "from bardapi import ChatBard\n",
    "    \n",
    "chat = ChatBard()\n",
    "chat.start()"
   ]
  },
  {
   "cell_type": "code",
   "execution_count": null,
   "metadata": {},
   "outputs": [],
   "source": [
    "from bardapi import Bard\n",
    "    \n",
    "bard = Bard(token=token, run_code=True)\n",
    "bard.get_answer(\"code a pie chart in python for this data={'blue':25, 'red':30, 'green':30, 'purple':15}\")"
   ]
  },
  {
   "cell_type": "code",
   "execution_count": null,
   "metadata": {},
   "outputs": [],
   "source": [
    "from bardapi import BardAsync \n",
    "    \n",
    "bard = BardAsync(token=token)\n",
    "await bard.get_answer(\"What is Metaverse?\")"
   ]
  },
  {
   "cell_type": "code",
   "execution_count": null,
   "metadata": {},
   "outputs": [],
   "source": [
    "from bardapi import Bard, SESSION_HEADERS\n",
    "import os\n",
    "import requests\n",
    "\n",
    "# Set token\n",
    "token= token\n",
    "\n",
    "# Set session\n",
    "session = requests.Session()\n",
    "session.headers = SESSION_HEADERS\n",
    "session.cookies.set(\"__Secure-1PSID\", token) \n",
    "\n",
    "# Give session and conversation id\n",
    "bard = Bard(token=token, session=session, conversation_id=\"c_1f04f704a788e6e4\", timeout=30)\n",
    "bard.get_answer(\"나와 내 동년배들이 좋아하는 뉴진스에 대해서 알려줘\")['content']"
   ]
  }
 ],
 "metadata": {
  "kernelspec": {
   "display_name": "mxnet",
   "language": "python",
   "name": "mxnet"
  },
  "language_info": {
   "codemirror_mode": {
    "name": "ipython",
    "version": 3
   },
   "file_extension": ".py",
   "mimetype": "text/x-python",
   "name": "python",
   "nbconvert_exporter": "python",
   "pygments_lexer": "ipython3",
   "version": "3.9.12"
  },
  "orig_nbformat": 4
 },
 "nbformat": 4,
 "nbformat_minor": 2
}
